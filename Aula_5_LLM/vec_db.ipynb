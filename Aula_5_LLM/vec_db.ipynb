{
  "nbformat": 4,
  "nbformat_minor": 0,
  "metadata": {
    "colab": {
      "provenance": []
    },
    "kernelspec": {
      "name": "python3",
      "display_name": "Python 3"
    },
    "language_info": {
      "name": "python"
    }
  },
  "cells": [
    {
      "cell_type": "code",
      "execution_count": null,
      "metadata": {
        "id": "PfLQ56aS-s0M"
      },
      "outputs": [],
      "source": [
        "# our library for encocing\n",
        "!pip install sentence-transformers"
      ]
    },
    {
      "cell_type": "code",
      "source": [
        "# download out dataset\n",
        "!gdown --id 1hU9jq_ORFu-2lzpmYln4PI2dFp4kGe3o\n"
      ],
      "metadata": {
        "id": "gG1vkprsIL45"
      },
      "execution_count": null,
      "outputs": []
    },
    {
      "cell_type": "code",
      "source": [
        "import pandas as pd\n",
        "import torch # if you can enable the GPU\n",
        "from tqdm import tqdm # very useful\n",
        "from sentence_transformers import SentenceTransformer"
      ],
      "metadata": {
        "id": "ntVQlZKQ_A9B"
      },
      "execution_count": null,
      "outputs": []
    },
    {
      "cell_type": "code",
      "source": [
        "FILENAME = \"RAW_recipes.csv\"\n",
        "device = \"cuda:0\" if torch.cuda.is_available() else \"cpu\"\n",
        "\n",
        "model = SentenceTransformer(\"sentence-transformers/all-MiniLM-L6-v2\")\n",
        "base_data = pd.read_csv(FILENAME)\n",
        "base_data.head()"
      ],
      "metadata": {
        "id": "JjjAbRuK_n_Q"
      },
      "execution_count": null,
      "outputs": []
    },
    {
      "cell_type": "code",
      "source": [
        "# embedding example\n",
        "embedding = model.encode(base_data[\"description\"][0])\n",
        "embedding"
      ],
      "metadata": {
        "id": "Kuff9uzdAJip"
      },
      "execution_count": null,
      "outputs": []
    },
    {
      "cell_type": "markdown",
      "source": [
        "Task: Create and run a recipe database that is capable to retrieve entries using similarity search with embeddings.\n",
        "\n",
        "Extra:\n",
        "- try to use the Faiss framework for approximate search.\n",
        "- try different text encoders."
      ],
      "metadata": {
        "id": "YmargnZ0EWg2"
      }
    },
    {
      "cell_type": "code",
      "source": [
        "# your code goes here"
      ],
      "metadata": {
        "id": "3PicIXCKEudg"
      },
      "execution_count": null,
      "outputs": []
    }
  ]
}